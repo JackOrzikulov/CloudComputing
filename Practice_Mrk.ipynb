{
 "cells": [
  {
   "cell_type": "markdown",
   "source": [
    "## Practice Markdown"
   ],
   "metadata": {
    "collapsed": false,
    "pycharm": {
     "name": "#%% md\n"
    }
   }
  },
  {
   "cell_type": "markdown",
   "source": [
    "This notebook lets you experiment with producing repeatable technical documentation. Use this notebook to do the following actions:\n",
    "\n",
    "* Create a code cell and print a Python Hello World statement: print(\"hello world\")\n",
    "* Create a Markdown Cell and add a Title using # and then a statement using plain text. You can looks at the source code for this cell to get an idea of how to use Markdown.\n",
    "* Take some ideas from the Master Markdown Github Guide and implement them here.\n",
    "* Finally, download this notebook as a .ipynb file and check into a Github Project"
   ],
   "metadata": {
    "collapsed": false,
    "pycharm": {
     "name": "#%% md\n"
    }
   }
  },
  {
   "cell_type": "code",
   "execution_count": null,
   "outputs": [],
   "source": [
    "print (\"Hello World!\")"
   ],
   "metadata": {
    "collapsed": false,
    "pycharm": {
     "name": "#%%\n",
     "is_executing": true
    }
   }
  }
 ],
 "metadata": {
  "kernelspec": {
   "display_name": "Python 3",
   "language": "python",
   "name": "python3"
  },
  "language_info": {
   "codemirror_mode": {
    "name": "ipython",
    "version": 2
   },
   "file_extension": ".py",
   "mimetype": "text/x-python",
   "name": "python",
   "nbconvert_exporter": "python",
   "pygments_lexer": "ipython2",
   "version": "2.7.6"
  }
 },
 "nbformat": 4,
 "nbformat_minor": 0
}