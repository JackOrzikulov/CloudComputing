{
  "nbformat": 4,
  "nbformat_minor": 0,
  "metadata": {
    "colab": {
      "provenance": [],
      "authorship_tag": "ABX9TyPIk2uAULfzlOXs9J/47MfZ",
      "include_colab_link": true
    },
    "kernelspec": {
      "name": "python3",
      "display_name": "Python 3"
    },
    "language_info": {
      "name": "python"
    }
  },
  "cells": [
    {
      "cell_type": "markdown",
      "metadata": {
        "id": "view-in-github",
        "colab_type": "text"
      },
      "source": [
        "<a href=\"https://colab.research.google.com/github/JackOrzikulov/CloudComputing/blob/main/Colab_practice.ipynb\" target=\"_parent\"><img src=\"https://colab.research.google.com/assets/colab-badge.svg\" alt=\"Open In Colab\"/></a>"
      ]
    },
    {
      "cell_type": "markdown",
      "source": [
        "## Practice Markdown"
      ],
      "metadata": {
        "id": "P9Pw-EPXjQLc"
      }
    },
    {
      "cell_type": "markdown",
      "source": [],
      "metadata": {
        "id": "vhlkANSpjUTR"
      }
    },
    {
      "cell_type": "markdown",
      "source": [
        "## Practice Markdown"
      ],
      "metadata": {
        "id": "4Q7ITEfcjYrc"
      }
    },
    {
      "cell_type": "code",
      "source": [
        "def hello():\n",
        "  print(\"Hello World\")"
      ],
      "metadata": {
        "id": "HN4jqB2KjZyi"
      },
      "execution_count": 1,
      "outputs": []
    },
    {
      "cell_type": "markdown",
      "source": [],
      "metadata": {
        "id": "SSRdjQODjV8a"
      }
    }
  ]
}